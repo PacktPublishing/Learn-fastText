{
 "cells": [
  {
   "cell_type": "markdown",
   "metadata": {},
   "source": [
    "A clone of the script found at:\n",
    "    https://gist.github.com/nboubakr/0eec4ea650eeb6dc21f9"
   ]
  },
  {
   "cell_type": "code",
   "execution_count": 1,
   "metadata": {},
   "outputs": [],
   "source": [
    "import heapq\n",
    "from collections import defaultdict"
   ]
  },
  {
   "cell_type": "code",
   "execution_count": 2,
   "metadata": {},
   "outputs": [],
   "source": [
    "def encode(frequency):\n",
    "    heap = [[weight, [symbol, '']] for symbol, weight in frequency.items()]\n",
    "    heapq.heapify(heap)\n",
    "    while len(heap) > 1:\n",
    "        lo = heapq.heappop(heap)\n",
    "        hi = heapq.heappop(heap)\n",
    "        for pair in lo[1:]:\n",
    "            pair[1] = '0' + pair[1]\n",
    "        for pair in hi[1:]:\n",
    "            pair[1] = '1' + pair[1]\n",
    "        heapq.heappush(heap, [lo[0] + hi[0]] + lo[1:] + hi[1:])\n",
    "    return sorted(heapq.heappop(heap)[1:], key=lambda p: (len(p[-1]), p))"
   ]
  },
  {
   "cell_type": "code",
   "execution_count": 3,
   "metadata": {},
   "outputs": [],
   "source": [
    "data = \"__label__sauce __label__food-safety __label__restaurant __label__baking __label__baking __label__sauce\"\n",
    "frequency = defaultdict(int)\n",
    "for symbol in data.split():\n",
    "    frequency[symbol] += 1"
   ]
  },
  {
   "cell_type": "code",
   "execution_count": 4,
   "metadata": {},
   "outputs": [
    {
     "name": "stdout",
     "output_type": "stream",
     "text": [
      "Symbol                Weight    Huffman Code\n",
      "__label__sauce        2         0\n",
      "__label__baking       2         10\n",
      "__label__food-safety  1         110\n",
      "__label__restaurant   1         111\n"
     ]
    }
   ],
   "source": [
    "huff = encode(frequency)\n",
    "print(\"Symbol\".ljust(22) + \"Weight\".ljust(10) + \"Huffman Code\")\n",
    "for p in huff:\n",
    "    print(p[0].ljust(22) + str(frequency[p[0]]).ljust(10) + p[1])"
   ]
  }
 ],
 "metadata": {
  "kernelspec": {
   "display_name": "Python 3",
   "language": "python",
   "name": "python3"
  },
  "language_info": {
   "codemirror_mode": {
    "name": "ipython",
    "version": 3
   },
   "file_extension": ".py",
   "mimetype": "text/x-python",
   "name": "python",
   "nbconvert_exporter": "python",
   "pygments_lexer": "ipython3",
   "version": "3.6.5"
  }
 },
 "nbformat": 4,
 "nbformat_minor": 2
}
