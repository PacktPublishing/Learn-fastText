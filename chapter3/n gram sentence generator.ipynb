{
 "cells": [
  {
   "cell_type": "markdown",
   "metadata": {},
   "source": [
    "# Bigram Generator\n",
    "\n",
    "A very simple bigram generator based on the principles of maximum likelihood and conditional probability."
   ]
  },
  {
   "cell_type": "code",
   "execution_count": 1,
   "metadata": {},
   "outputs": [
    {
     "name": "stdout",
     "output_type": "stream",
     "text": [
      "--2018-06-16 23:22:09--  http://legacydirs.umiacs.umd.edu/~nmadnani/python-papers/persuasion.txt\n",
      "Resolving legacydirs.umiacs.umd.edu (legacydirs.umiacs.umd.edu)... 128.8.120.33\n",
      "Connecting to legacydirs.umiacs.umd.edu (legacydirs.umiacs.umd.edu)|128.8.120.33|:80... connected.\n",
      "HTTP request sent, awaiting response... 200 OK\n",
      "Length: 497772 (486K) [text/plain]\n",
      "Saving to: 'persuasion.txt'\n",
      "\n",
      "persuasion.txt      100%[===================>] 486.11K  22.0KB/s    in 17s     \n",
      "\n",
      "2018-06-16 23:22:26 (29.3 KB/s) - 'persuasion.txt' saved [497772/497772]\n",
      "\n"
     ]
    }
   ],
   "source": [
    "!wget -nc http://legacydirs.umiacs.umd.edu/~nmadnani/python-papers/persuasion.txt"
   ]
  },
  {
   "cell_type": "markdown",
   "metadata": {},
   "source": [
    "Bash scripts for text transformations are really fast. The below one -\n",
    "\n",
    "    - converts all new lines to spaces\n",
    "    - converts consecutive spaces to single ones.\n",
    "    - converts all non alphanumerics to new lines\n",
    "    - get consecutive words\n",
    "    - make them uniq with storing the number of times they occur\n",
    "    - sort based on their frequency\n",
    "    - finally publish to a new file"
   ]
  },
  {
   "cell_type": "code",
   "execution_count": 2,
   "metadata": {},
   "outputs": [],
   "source": [
    "!cat persuasion.txt | tr '\\n' ' ' | tr -s ' ' \\\n",
    "    | tr -sc 'A-Za-z0-9' '\\012' |   sed -e '1!{$!p' -e '}' \\\n",
    "    | paste -d' ' - - | sort | uniq -c | sort -nr \\\n",
    "    > persuasion_bigrams.txt"
   ]
  },
  {
   "cell_type": "code",
   "execution_count": 3,
   "metadata": {},
   "outputs": [],
   "source": [
    "def get_next_word(ngram_file, word1=None, sentence_length=0):\n",
    "    with open(ngram_file) as f:\n",
    "        for line in f:\n",
    "            _, w1, w2 = line.split()\n",
    "            if word1 is None or word1 == w1:\n",
    "                sentence_length -= 1\n",
    "                word1 = w2\n",
    "                return w1, word1, sentence_length"
   ]
  },
  {
   "cell_type": "code",
   "execution_count": 4,
   "metadata": {},
   "outputs": [],
   "source": [
    "def build_sentence(ngram_file, sentence_length):\n",
    "    first_word = None\n",
    "    sentence = ''\n",
    "    while sentence_length > 0:\n",
    "        w1, first_word, sentence_length = get_next_word(ngram_file, first_word, sentence_length)\n",
    "        sentence = sentence + ' ' + w1\n",
    "    final_sentence = sentence + ' ' + first_word + '.'\n",
    "    return final_sentence"
   ]
  },
  {
   "cell_type": "code",
   "execution_count": 6,
   "metadata": {},
   "outputs": [
    {
     "name": "stdout",
     "output_type": "stream",
     "text": [
      " of the same time to be a very well as she.\n"
     ]
    }
   ],
   "source": [
    "print(build_sentence('persuasion_bigrams.txt', 10))"
   ]
  }
 ],
 "metadata": {
  "kernelspec": {
   "display_name": "Python 3",
   "language": "python",
   "name": "python3"
  },
  "language_info": {
   "codemirror_mode": {
    "name": "ipython",
    "version": 3
   },
   "file_extension": ".py",
   "mimetype": "text/x-python",
   "name": "python",
   "nbconvert_exporter": "python",
   "pygments_lexer": "ipython3",
   "version": "3.6.5"
  }
 },
 "nbformat": 4,
 "nbformat_minor": 2
}
