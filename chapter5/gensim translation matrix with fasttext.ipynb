{
 "cells": [
  {
   "cell_type": "markdown",
   "metadata": {},
   "source": [
    "# Translation Matrix Tutorial"
   ]
  },
  {
   "cell_type": "markdown",
   "metadata": {},
   "source": [
    "## What is it ?"
   ]
  },
  {
   "cell_type": "markdown",
   "metadata": {},
   "source": [
    "Suppose we are given a set of word pairs and their associated vector representaion $\\{x_{i},z_{i}\\}_{i=1}^{n}$, where $x_{i} \\in R^{d_{1}}$ is the distibuted representation of word $i$ in the source language, and ${z_{i} \\in R^{d_{2}}}$ is the vector representation of its translation. Our goal is to find a transformation matrix $W$ such that $Wx_{i}$ approximates $z_{i}$. In practice, $W$ can be learned by the following optimization prolem:\n",
    "\n",
    "<center>$\\min \\limits_{W} \\sum \\limits_{i=1}^{n} ||Wx_{i}-z_{i}||^{2}$</center>"
   ]
  },
  {
   "cell_type": "markdown",
   "metadata": {},
   "source": [
    "## Resources"
   ]
  },
  {
   "cell_type": "markdown",
   "metadata": {},
   "source": [
    "Tomas Mikolov, Quoc V Le, Ilya Sutskever. 2013.[Exploiting Similarities among Languages for Machine Translation](https://arxiv.org/pdf/1309.4168.pdf)\n",
    "\n",
    "Georgiana Dinu, Angelikie Lazaridou and Marco Baroni. 2014.[Improving zero-shot learning by mitigating the hubness problem](https://arxiv.org/pdf/1309.4168.pdf)"
   ]
  },
  {
   "cell_type": "markdown",
   "metadata": {},
   "source": [
    "This notebook is to show how to find the translation matrix using fasttext and is inspired by the gensim translation matrix notebook.\n",
    "\n",
    "https://github.com/RaRe-Technologies/gensim/blob/develop/docs/notebooks/translation_matrix.ipynb"
   ]
  },
  {
   "cell_type": "code",
   "execution_count": 1,
   "metadata": {},
   "outputs": [],
   "source": [
    "import os\n",
    "\n",
    "from gensim import utils\n",
    "from gensim.models import translation_matrix\n",
    "from gensim.models import KeyedVectors\n",
    "from gensim.models.fasttext import FastText\n",
    "import warnings\n",
    "warnings.filterwarnings(\"ignore\")"
   ]
  },
  {
   "cell_type": "markdown",
   "metadata": {},
   "source": [
    "For this tutorial, we'll train our model using the English -> Italian word pairs from the OPUS collection. This corpus contains 5000 word pairs. Each word pair is English word with corresponding Italian word.\n",
    "\n",
    "Dataset download:"
   ]
  },
  {
   "cell_type": "code",
   "execution_count": 2,
   "metadata": {},
   "outputs": [
    {
     "name": "stdout",
     "output_type": "stream",
     "text": [
      "File 'OPUS_en_it_europarl_train_5K.txt' already there; not retrieving.\r\n",
      "\r\n"
     ]
    }
   ],
   "source": [
    "!wget -nc https//s3.amazonaws.com/arrival/dictionaries/OPUS_en_it_europarl_train_5K.txt"
   ]
  },
  {
   "cell_type": "markdown",
   "metadata": {},
   "source": [
    "This tutorial uses 300-dimensional vectors of English words as source and vectors of Italian words as target. (Those vector trained by the fasttext toolkit with cbow. The context window was set 5 words to either side of the target,\n",
    "the sub-sampling option was set to 1e-05 and estimate the probability of a target word with the negative sampling method, drawing 10 samples from the noise distribution)\n",
    "\n",
    "Download dataset:\n",
    "\n",
    "[EN.200K.cbow1_wind5_hs0_neg10_size300_smpl1e-05.txt](https://pan.baidu.com/s/1nv3bYel)\n",
    "\n",
    "[IT.200K.cbow1_wind5_hs0_neg10_size300_smpl1e-05.txt](https://pan.baidu.com/s/1boP0P7D)"
   ]
  },
  {
   "cell_type": "markdown",
   "metadata": {},
   "source": [
    "Although fasttext supports out of vocabulary files, still translation matrices works only with vec files as the underlying vocabulary is accessed. In case you have out of vocabulary words then the best course of action would probably be to edit the vec files to accomodate those OOV words as well."
   ]
  },
  {
   "cell_type": "code",
   "execution_count": 3,
   "metadata": {},
   "outputs": [],
   "source": [
    "# Load the source language word vector\n",
    "source_word_vec_file = \"wiki.simple.vec\"\n",
    "source_word_vec = KeyedVectors.load_word2vec_format(source_word_vec_file, binary=False)"
   ]
  },
  {
   "cell_type": "code",
   "execution_count": 4,
   "metadata": {},
   "outputs": [],
   "source": [
    "# Load the target language word vector\n",
    "target_word_vec_file = \"wiki.it.vec\"\n",
    "target_word_vec = KeyedVectors.load_word2vec_format(target_word_vec_file, binary=False)"
   ]
  },
  {
   "cell_type": "code",
   "execution_count": 5,
   "metadata": {},
   "outputs": [
    {
     "name": "stdout",
     "output_type": "stream",
     "text": [
      "[('for', 'per'), ('that', 'che'), ('with', 'con'), ('are', 'are'), ('are', 'sono'), ('this', 'questa'), ('this', 'questo'), ('you', 'lei'), ('not', 'non'), ('which', 'che')]\n"
     ]
    }
   ],
   "source": [
    "train_file = \"OPUS_en_it_europarl_train_5K.txt\"\n",
    "\n",
    "with utils.smart_open(train_file, \"r\") as f:\n",
    "    word_pair = [tuple(utils.to_unicode(line).strip().split()) for line in f]\n",
    "    word_pair = [wp for wp in word_pair if wp[0] in source_word_vec and wp[1] in target_word_vec]\n",
    "print (word_pair[:10])"
   ]
  },
  {
   "cell_type": "markdown",
   "metadata": {},
   "source": [
    "Train the translation matrix"
   ]
  },
  {
   "cell_type": "code",
   "execution_count": 6,
   "metadata": {},
   "outputs": [
    {
     "name": "stdout",
     "output_type": "stream",
     "text": [
      "the shape of translation matrix is:  (300, 300)\n"
     ]
    }
   ],
   "source": [
    "transmat = translation_matrix.TranslationMatrix(source_word_vec, target_word_vec, word_pair)\n",
    "transmat.train(word_pair)\n",
    "print (\"the shape of translation matrix is: \", transmat.translation_matrix.shape)"
   ]
  },
  {
   "cell_type": "markdown",
   "metadata": {},
   "source": [
    "Prediction Time: For any given new word, we can map it to the other language space by coputing $z = Wx$, then we find the word whose representation is closet to z in the target language space, using consine similarity as the distance metric."
   ]
  },
  {
   "cell_type": "markdown",
   "metadata": {},
   "source": [
    "#### Part one:\n",
    "Let's look at some vocabulary of numbers translation. We use English words (one, two, three, four and five) as test."
   ]
  },
  {
   "cell_type": "code",
   "execution_count": 7,
   "metadata": {},
   "outputs": [],
   "source": [
    "# The pair is in the form of (English, Italian), we can see whether the translated word is correct\n",
    "words = [(\"one\", \"uno\"), (\"two\", \"due\"), (\"three\", \"tre\"), (\"four\", \"quattro\"), (\"five\", \"cinque\")]\n",
    "source_word, target_word = zip(*words)\n",
    "translated_word = transmat.translate(source_word, 5, )"
   ]
  },
  {
   "cell_type": "code",
   "execution_count": 8,
   "metadata": {
    "scrolled": true
   },
   "outputs": [
    {
     "name": "stdout",
     "output_type": "stream",
     "text": [
      "word  one  and translated word ['み', 'anche', 'cui', 'tre', 'due']\n",
      "word  two  and translated word ['due', 'tre', 'quattro', 'cinque', 'nove']\n",
      "word  three  and translated word ['tre', 'quattro', 'cinque', 'due', 'sette']\n",
      "word  four  and translated word ['quattro', 'tre', 'cinque', 'due', 'nove']\n",
      "word  five  and translated word ['cinque', 'quattro', 'tre', 'dieci', 'nove']\n"
     ]
    }
   ],
   "source": [
    "for k, v in translated_word.items():\n",
    "    print (\"word \", k, \" and translated word\", v)"
   ]
  },
  {
   "cell_type": "markdown",
   "metadata": {},
   "source": [
    "#### Part two:\n",
    "Let's look at some vocabulary of fruits translation. We use English words (apple, orange, grape, banana and mango) as test."
   ]
  },
  {
   "cell_type": "code",
   "execution_count": 9,
   "metadata": {},
   "outputs": [
    {
     "name": "stdout",
     "output_type": "stream",
     "text": [
      "word  apple  and translated word ['apple', 'microsoft®', 'microsoft', 'pinkberry', 'applesoft']\n",
      "word  orange  and translated word ['arancio', 'arancione', 'colore', 'giallo/arancione', 'aranciato']\n",
      "word  grape  and translated word ['ortaggio', 'albicocche', 'ortaggi', 'carciofolata', 'arance']\n",
      "word  banana  and translated word ['arachidi', 'riso', 'frutta', 'manioca', 'cereali']\n",
      "word  mango  and translated word ['cardamomo', 'granturco', 'anacardi', 'riso', 'manioca']\n"
     ]
    }
   ],
   "source": [
    "words = [(\"apple\", \"mela\"), (\"orange\", \"arancione\"), (\"grape\", \"acino\"), (\"banana\", \"banana\"), (\"mango\", \"mango\")]\n",
    "source_word, target_word = zip(*words)\n",
    "translated_word = transmat.translate(source_word, 5)\n",
    "for k, v in translated_word.items():\n",
    "    print (\"word \", k, \" and translated word\", v)"
   ]
  },
  {
   "cell_type": "markdown",
   "metadata": {},
   "source": [
    "#### Part three:\n",
    "Let's look at some vocabulary of animals translation. We use English words (dog, pig, cat, horse and bird) as test."
   ]
  },
  {
   "cell_type": "code",
   "execution_count": 10,
   "metadata": {},
   "outputs": [
    {
     "name": "stdout",
     "output_type": "stream",
     "text": [
      "word  dog  and translated word ['cane', 'cani', 'randagio', 'cagnolino', 'catdog']\n",
      "word  pig  and translated word ['dognipelo', 'mangiasciutti', 'animaletto', 'maiale', 'trituratore']\n",
      "word  cat  and translated word ['gatto', 'gattino', 'scimmietta', 'scodinzolante', 'cagnolino']\n",
      "word  fish  and translated word ['gamberetti', 'pesce', 'gamberetto', 'gamberi', 'pesci']\n",
      "word  birds  and translated word ['uccelli', 'insettivori', 'animali', 'rettili', 'mammiferi']\n"
     ]
    }
   ],
   "source": [
    "words = [(\"dog\", \"cane\"), (\"pig\", \"maiale\"), (\"cat\", \"gatto\"), (\"fish\", \"cavallo\"), (\"birds\", \"uccelli\")]\n",
    "source_word, target_word = zip(*words)\n",
    "translated_word = transmat.translate(source_word, 5)\n",
    "for k, v in translated_word.items():\n",
    "    print (\"word \", k, \" and translated word\", v)"
   ]
  },
  {
   "cell_type": "markdown",
   "metadata": {},
   "source": [
    "### The Creation Time for the Translation Matrix"
   ]
  },
  {
   "cell_type": "markdown",
   "metadata": {},
   "source": [
    "Testing the creation time, we extracted more word pairs from a dictionary built from Europarl([Europara, en-it](http://opus.lingfil.uu.se/)). We obtain about 20K word pairs and their coresponding word vectors or you can download from this.[word_dict.pkl](https://pan.baidu.com/s/1dF8HUX7)"
   ]
  },
  {
   "cell_type": "code",
   "execution_count": 11,
   "metadata": {},
   "outputs": [],
   "source": [
    "# # Uncomment this if you want to store this\n",
    "# import pickle\n",
    "# word_dict = \"word_dict.pkl\"\n",
    "# with utils.smart_open(word_dict, \"r\") as f:\n",
    "#     word_pair = pickle.load(f)\n",
    "# print (\"the length of word pair \", len(word_pair))"
   ]
  },
  {
   "cell_type": "code",
   "execution_count": 15,
   "metadata": {},
   "outputs": [],
   "source": [
    "import time\n",
    "\n",
    "test_case = 10\n",
    "word_pair_length = len(word_pair)\n",
    "step = int(word_pair_length / test_case)\n",
    "\n",
    "duration = []\n",
    "sizeofword = []\n",
    "\n",
    "for idx in range(0, test_case):\n",
    "    sub_pair = word_pair[:(idx + 1)*step]\n",
    "\n",
    "    startTime = time.time()\n",
    "    transmat = translation_matrix.TranslationMatrix(source_word_vec, target_word_vec, sub_pair)\n",
    "    transmat.train(sub_pair)\n",
    "    endTime = time.time()\n",
    "    \n",
    "    sizeofword.append(len(sub_pair))\n",
    "    duration.append(endTime - startTime)"
   ]
  },
  {
   "cell_type": "code",
   "execution_count": 16,
   "metadata": {},
   "outputs": [
    {
     "data": {
      "text/html": [
       "<script>requirejs.config({paths: { 'plotly': ['https://cdn.plot.ly/plotly-latest.min']},});if(!window.Plotly) {{require(['plotly'],function(plotly) {window.Plotly=plotly;});}}</script>"
      ],
      "text/vnd.plotly.v1+html": [
       "<script>requirejs.config({paths: { 'plotly': ['https://cdn.plot.ly/plotly-latest.min']},});if(!window.Plotly) {{require(['plotly'],function(plotly) {window.Plotly=plotly;});}}</script>"
      ]
     },
     "metadata": {},
     "output_type": "display_data"
    },
    {
     "data": {
      "application/vnd.plotly.v1+json": {
       "data": [
        {
         "type": "scatter",
         "x": [
          499,
          998,
          1497,
          1996,
          2495,
          2994,
          3493,
          3992,
          4491,
          4990
         ],
         "y": [
          0.1548781394958496,
          0.1517350673675537,
          0.18994903564453125,
          0.32175207138061523,
          0.248643159866333,
          0.29190707206726074,
          0.3213338851928711,
          0.3545408248901367,
          0.3975799083709717,
          0.457103967666626
         ]
        }
       ],
       "layout": {
        "title": "time for creation"
       }
      },
      "text/html": [
       "<div id=\"2e2d50d3-7b25-4f00-96df-320f6aef4d83\" style=\"height: 525px; width: 100%;\" class=\"plotly-graph-div\"></div><script type=\"text/javascript\">require([\"plotly\"], function(Plotly) { window.PLOTLYENV=window.PLOTLYENV || {};window.PLOTLYENV.BASE_URL=\"https://plot.ly\";Plotly.newPlot(\"2e2d50d3-7b25-4f00-96df-320f6aef4d83\", [{\"type\": \"scatter\", \"x\": [499, 998, 1497, 1996, 2495, 2994, 3493, 3992, 4491, 4990], \"y\": [0.1548781394958496, 0.1517350673675537, 0.18994903564453125, 0.32175207138061523, 0.248643159866333, 0.29190707206726074, 0.3213338851928711, 0.3545408248901367, 0.3975799083709717, 0.457103967666626]}], {\"title\": \"time for creation\"}, {\"showLink\": true, \"linkText\": \"Export to plot.ly\"})});</script>"
      ],
      "text/vnd.plotly.v1+html": [
       "<div id=\"2e2d50d3-7b25-4f00-96df-320f6aef4d83\" style=\"height: 525px; width: 100%;\" class=\"plotly-graph-div\"></div><script type=\"text/javascript\">require([\"plotly\"], function(Plotly) { window.PLOTLYENV=window.PLOTLYENV || {};window.PLOTLYENV.BASE_URL=\"https://plot.ly\";Plotly.newPlot(\"2e2d50d3-7b25-4f00-96df-320f6aef4d83\", [{\"type\": \"scatter\", \"x\": [499, 998, 1497, 1996, 2495, 2994, 3493, 3992, 4491, 4990], \"y\": [0.1548781394958496, 0.1517350673675537, 0.18994903564453125, 0.32175207138061523, 0.248643159866333, 0.29190707206726074, 0.3213338851928711, 0.3545408248901367, 0.3975799083709717, 0.457103967666626]}], {\"title\": \"time for creation\"}, {\"showLink\": true, \"linkText\": \"Export to plot.ly\"})});</script>"
      ]
     },
     "metadata": {},
     "output_type": "display_data"
    }
   ],
   "source": [
    "import plotly\n",
    "from plotly.graph_objs import Scatter, Layout\n",
    "\n",
    "plotly.offline.init_notebook_mode(connected=True)\n",
    "\n",
    "plotly.offline.iplot({\n",
    "    \"data\": [Scatter(x=sizeofword, y=duration)],\n",
    "    \"layout\": Layout(title=\"time for creation\"),\n",
    "}, filename=\"tm_creation_time.html\")"
   ]
  },
  {
   "cell_type": "markdown",
   "metadata": {},
   "source": [
    "You will see a two dimensional coordination whose horizontal axis is the size of corpus and vertical axis is the time to train a translation matrix (the unit is second). As the size of corpus increases, the time increases linearly."
   ]
  },
  {
   "cell_type": "markdown",
   "metadata": {
    "collapsed": true
   },
   "source": [
    "### Linear Relationship Between Languages"
   ]
  },
  {
   "cell_type": "markdown",
   "metadata": {},
   "source": [
    "To have a better understanding of the principles behind, we visualized the word vectors using PCA, we noticed that the vector representations of similar words in different languages were related by a linear transformation."
   ]
  },
  {
   "cell_type": "code",
   "execution_count": 17,
   "metadata": {},
   "outputs": [
    {
     "data": {
      "text/html": [
       "<script>requirejs.config({paths: { 'plotly': ['https://cdn.plot.ly/plotly-latest.min']},});if(!window.Plotly) {{require(['plotly'],function(plotly) {window.Plotly=plotly;});}}</script>"
      ],
      "text/vnd.plotly.v1+html": [
       "<script>requirejs.config({paths: { 'plotly': ['https://cdn.plot.ly/plotly-latest.min']},});if(!window.Plotly) {{require(['plotly'],function(plotly) {window.Plotly=plotly;});}}</script>"
      ]
     },
     "metadata": {},
     "output_type": "display_data"
    }
   ],
   "source": [
    "from sklearn.decomposition import PCA\n",
    "\n",
    "import plotly\n",
    "from plotly.graph_objs import Scatter, Layout, Figure\n",
    "plotly.offline.init_notebook_mode(connected=True)"
   ]
  },
  {
   "cell_type": "code",
   "execution_count": 18,
   "metadata": {},
   "outputs": [],
   "source": [
    "words = [(\"one\", \"uno\"), (\"two\", \"due\"), (\"three\", \"tre\"), (\"four\", \"quattro\"), (\"five\", \"cinque\")]\n",
    "en_words_vec = [source_word_vec[item[0]] for item in words]\n",
    "it_words_vec = [target_word_vec[item[1]] for item in words]\n",
    "\n",
    "en_words, it_words = zip(*words)\n",
    "\n",
    "pca = PCA(n_components=2)\n",
    "new_en_words_vec = pca.fit_transform(en_words_vec)\n",
    "new_it_words_vec = pca.fit_transform(it_words_vec)"
   ]
  },
  {
   "cell_type": "code",
   "execution_count": 19,
   "metadata": {},
   "outputs": [
    {
     "data": {
      "application/vnd.plotly.v1+json": {
       "data": [
        {
         "mode": "markers+text",
         "text": [
          "one",
          "two",
          "three",
          "four",
          "five"
         ],
         "textposition": "top",
         "type": "scatter",
         "x": [
          1.789328808534101,
          0.46457554063058476,
          -0.27927526682003184,
          -1.0222752905860228,
          -0.9523537917586309
         ],
         "y": [
          0.5909285409505888,
          -0.9455953195366629,
          -0.44393076092698847,
          -0.2646325969947469,
          1.0632301365078103
         ]
        },
        {
         "mode": "markers+text",
         "text": [
          "uno",
          "due",
          "tre",
          "quattro",
          "cinque"
         ],
         "textposition": "top",
         "type": "scatter",
         "x": [
          2.633347579243273,
          -0.29364736853569007,
          -0.6073078472463418,
          -0.9257433709375468,
          -0.8066489925236952
         ],
         "y": [
          -0.19503825239236292,
          1.1656711782125873,
          0.22030503471625212,
          -0.24370465331721647,
          -0.9472333072192581
         ]
        }
       ],
       "layout": {
        "showlegend": false
       }
      },
      "text/html": [
       "<div id=\"57b2dc8a-cea0-444d-839b-ec395d838915\" style=\"height: 525px; width: 100%;\" class=\"plotly-graph-div\"></div><script type=\"text/javascript\">require([\"plotly\"], function(Plotly) { window.PLOTLYENV=window.PLOTLYENV || {};window.PLOTLYENV.BASE_URL=\"https://plot.ly\";Plotly.newPlot(\"57b2dc8a-cea0-444d-839b-ec395d838915\", [{\"type\": \"scatter\", \"x\": [1.789328808534101, 0.46457554063058476, -0.27927526682003184, -1.0222752905860228, -0.9523537917586309], \"y\": [0.5909285409505888, -0.9455953195366629, -0.44393076092698847, -0.2646325969947469, 1.0632301365078103], \"mode\": \"markers+text\", \"text\": [\"one\", \"two\", \"three\", \"four\", \"five\"], \"textposition\": \"top\"}, {\"type\": \"scatter\", \"x\": [2.633347579243273, -0.29364736853569007, -0.6073078472463418, -0.9257433709375468, -0.8066489925236952], \"y\": [-0.19503825239236292, 1.1656711782125873, 0.22030503471625212, -0.24370465331721647, -0.9472333072192581], \"mode\": \"markers+text\", \"text\": [\"uno\", \"due\", \"tre\", \"quattro\", \"cinque\"], \"textposition\": \"top\"}], {\"showlegend\": false}, {\"showLink\": true, \"linkText\": \"Export to plot.ly\"})});</script>"
      ],
      "text/vnd.plotly.v1+html": [
       "<div id=\"57b2dc8a-cea0-444d-839b-ec395d838915\" style=\"height: 525px; width: 100%;\" class=\"plotly-graph-div\"></div><script type=\"text/javascript\">require([\"plotly\"], function(Plotly) { window.PLOTLYENV=window.PLOTLYENV || {};window.PLOTLYENV.BASE_URL=\"https://plot.ly\";Plotly.newPlot(\"57b2dc8a-cea0-444d-839b-ec395d838915\", [{\"type\": \"scatter\", \"x\": [1.789328808534101, 0.46457554063058476, -0.27927526682003184, -1.0222752905860228, -0.9523537917586309], \"y\": [0.5909285409505888, -0.9455953195366629, -0.44393076092698847, -0.2646325969947469, 1.0632301365078103], \"mode\": \"markers+text\", \"text\": [\"one\", \"two\", \"three\", \"four\", \"five\"], \"textposition\": \"top\"}, {\"type\": \"scatter\", \"x\": [2.633347579243273, -0.29364736853569007, -0.6073078472463418, -0.9257433709375468, -0.8066489925236952], \"y\": [-0.19503825239236292, 1.1656711782125873, 0.22030503471625212, -0.24370465331721647, -0.9472333072192581], \"mode\": \"markers+text\", \"text\": [\"uno\", \"due\", \"tre\", \"quattro\", \"cinque\"], \"textposition\": \"top\"}], {\"showlegend\": false}, {\"showLink\": true, \"linkText\": \"Export to plot.ly\"})});</script>"
      ]
     },
     "metadata": {},
     "output_type": "display_data"
    }
   ],
   "source": [
    "# you can also using plotly lib to plot in one figure\n",
    "trace1 = Scatter(\n",
    "    x = new_en_words_vec[:, 0],\n",
    "    y = new_en_words_vec[:, 1],\n",
    "    mode = 'markers+text',\n",
    "    text = en_words,\n",
    "    textposition = 'top'\n",
    ")\n",
    "trace2 = Scatter(\n",
    "    x = new_it_words_vec[:, 0],\n",
    "    y = new_it_words_vec[:, 1],\n",
    "    mode = 'markers+text',\n",
    "    text = it_words,\n",
    "    textposition = 'top'\n",
    ")\n",
    "layout = Layout(\n",
    "    showlegend = False\n",
    ")\n",
    "data = [trace1, trace2]\n",
    "\n",
    "fig = Figure(data=data, layout=layout)\n",
    "plot_url = plotly.offline.iplot(fig, filename='relatie_position_for_number.html')"
   ]
  },
  {
   "cell_type": "markdown",
   "metadata": {},
   "source": [
    "The figure shows that the word vectors for English number one to five and the corresponding Italian words uno to cinque have similar geometric arrangements. So the relationship between vector spaces that represent these two languages can be captured by linear mapping. \n",
    "If we know the translation of one to four from English to Italian, we can learn the transformation matrix that can help us to translate five or other numbers to the Italian word."
   ]
  },
  {
   "cell_type": "code",
   "execution_count": 20,
   "metadata": {},
   "outputs": [
    {
     "name": "stdout",
     "output_type": "stream",
     "text": [
      "translation of five:  OrderedDict([('five', ['cinque', 'quattro', 'tre'])])\n"
     ]
    }
   ],
   "source": [
    "words = [(\"one\", \"uno\"), (\"two\", \"due\"), (\"three\", \"tre\"), (\"four\", \"quattro\"), (\"five\", \"cinque\")]\n",
    "en_words, it_words = zip(*words)\n",
    "en_words_vec = [source_word_vec[item[0]] for item in words]\n",
    "it_words_vec = [target_word_vec[item[1]] for item in words]\n",
    "\n",
    "# Translate the English word five to Italian word\n",
    "translated_word = transmat.translate([en_words[4]], 3)\n",
    "print (\"translation of five: \", translated_word)\n",
    "\n",
    "# the translated words of five\n",
    "for item in translated_word[en_words[4]]:\n",
    "    it_words_vec.append(target_word_vec[item])\n",
    "\n",
    "pca = PCA(n_components=2)\n",
    "new_en_words_vec = pca.fit_transform(en_words_vec)\n",
    "new_it_words_vec = pca.fit_transform(it_words_vec)"
   ]
  },
  {
   "cell_type": "code",
   "execution_count": 21,
   "metadata": {},
   "outputs": [
    {
     "data": {
      "application/vnd.plotly.v1+json": {
       "data": [
        {
         "mode": "markers+text",
         "text": [
          "one",
          "two",
          "three",
          "four",
          "five"
         ],
         "textposition": "top",
         "type": "scatter",
         "x": [
          1.789328808534101,
          0.46457554063058476,
          -0.27927526682003184,
          -1.0222752905860228,
          -0.9523537917586309
         ],
         "y": [
          0.5909285409505888,
          -0.9455953195366629,
          -0.44393076092698847,
          -0.2646325969947469,
          1.0632301365078103
         ]
        },
        {
         "mode": "markers+text",
         "text": [
          "uno",
          "due",
          "tre",
          "quattro",
          "cinque"
         ],
         "textposition": "top",
         "type": "scatter",
         "x": [
          2.9080996116375437,
          0.10806766020282706,
          -0.2802099752280093,
          -0.6560291178472273,
          -0.5718445428449483,
          -0.5718445428449483,
          -0.6560291178472273,
          -0.2802099752280093
         ],
         "y": [
          -0.301961794605631,
          1.1753733748093962,
          0.4307079046718782,
          -0.0026183790093346274,
          -0.8647953157644258,
          -0.8647953157644258,
          -0.0026183790093348303,
          0.43070790467187814
         ]
        }
       ],
       "layout": {
        "annotations": [
         {
          "arrowcolor": "black",
          "arrowhead": 0.5,
          "arrowsize": 1.5,
          "arrowwidth": 1,
          "text": "cinque",
          "x": -0.5718445428449483,
          "y": -0.8647953157644258
         },
         {
          "arrowcolor": "black",
          "arrowhead": 0.5,
          "arrowsize": 1.5,
          "arrowwidth": 1,
          "text": "quattro",
          "x": -0.6560291178472273,
          "y": -0.0026183790093348303
         },
         {
          "arrowcolor": "black",
          "arrowhead": 0.5,
          "arrowsize": 1.5,
          "arrowwidth": 1,
          "text": "tre",
          "x": -0.2802099752280093,
          "y": 0.43070790467187814
         }
        ],
        "showlegend": false
       }
      },
      "text/html": [
       "<div id=\"38df71cb-3200-407b-b1ba-25ab60672a3f\" style=\"height: 525px; width: 100%;\" class=\"plotly-graph-div\"></div><script type=\"text/javascript\">require([\"plotly\"], function(Plotly) { window.PLOTLYENV=window.PLOTLYENV || {};window.PLOTLYENV.BASE_URL=\"https://plot.ly\";Plotly.newPlot(\"38df71cb-3200-407b-b1ba-25ab60672a3f\", [{\"type\": \"scatter\", \"x\": [1.789328808534101, 0.46457554063058476, -0.27927526682003184, -1.0222752905860228, -0.9523537917586309], \"y\": [0.5909285409505888, -0.9455953195366629, -0.44393076092698847, -0.2646325969947469, 1.0632301365078103], \"mode\": \"markers+text\", \"text\": [\"one\", \"two\", \"three\", \"four\", \"five\"], \"textposition\": \"top\"}, {\"type\": \"scatter\", \"x\": [2.9080996116375437, 0.10806766020282706, -0.2802099752280093, -0.6560291178472273, -0.5718445428449483, -0.5718445428449483, -0.6560291178472273, -0.2802099752280093], \"y\": [-0.301961794605631, 1.1753733748093962, 0.4307079046718782, -0.0026183790093346274, -0.8647953157644258, -0.8647953157644258, -0.0026183790093348303, 0.43070790467187814], \"mode\": \"markers+text\", \"text\": [\"uno\", \"due\", \"tre\", \"quattro\", \"cinque\"], \"textposition\": \"top\"}], {\"showlegend\": false, \"annotations\": [{\"x\": -0.5718445428449483, \"y\": -0.8647953157644258, \"text\": \"cinque\", \"arrowcolor\": \"black\", \"arrowsize\": 1.5, \"arrowwidth\": 1, \"arrowhead\": 0.5}, {\"x\": -0.6560291178472273, \"y\": -0.0026183790093348303, \"text\": \"quattro\", \"arrowcolor\": \"black\", \"arrowsize\": 1.5, \"arrowwidth\": 1, \"arrowhead\": 0.5}, {\"x\": -0.2802099752280093, \"y\": 0.43070790467187814, \"text\": \"tre\", \"arrowcolor\": \"black\", \"arrowsize\": 1.5, \"arrowwidth\": 1, \"arrowhead\": 0.5}]}, {\"showLink\": true, \"linkText\": \"Export to plot.ly\"})});</script>"
      ],
      "text/vnd.plotly.v1+html": [
       "<div id=\"38df71cb-3200-407b-b1ba-25ab60672a3f\" style=\"height: 525px; width: 100%;\" class=\"plotly-graph-div\"></div><script type=\"text/javascript\">require([\"plotly\"], function(Plotly) { window.PLOTLYENV=window.PLOTLYENV || {};window.PLOTLYENV.BASE_URL=\"https://plot.ly\";Plotly.newPlot(\"38df71cb-3200-407b-b1ba-25ab60672a3f\", [{\"type\": \"scatter\", \"x\": [1.789328808534101, 0.46457554063058476, -0.27927526682003184, -1.0222752905860228, -0.9523537917586309], \"y\": [0.5909285409505888, -0.9455953195366629, -0.44393076092698847, -0.2646325969947469, 1.0632301365078103], \"mode\": \"markers+text\", \"text\": [\"one\", \"two\", \"three\", \"four\", \"five\"], \"textposition\": \"top\"}, {\"type\": \"scatter\", \"x\": [2.9080996116375437, 0.10806766020282706, -0.2802099752280093, -0.6560291178472273, -0.5718445428449483, -0.5718445428449483, -0.6560291178472273, -0.2802099752280093], \"y\": [-0.301961794605631, 1.1753733748093962, 0.4307079046718782, -0.0026183790093346274, -0.8647953157644258, -0.8647953157644258, -0.0026183790093348303, 0.43070790467187814], \"mode\": \"markers+text\", \"text\": [\"uno\", \"due\", \"tre\", \"quattro\", \"cinque\"], \"textposition\": \"top\"}], {\"showlegend\": false, \"annotations\": [{\"x\": -0.5718445428449483, \"y\": -0.8647953157644258, \"text\": \"cinque\", \"arrowcolor\": \"black\", \"arrowsize\": 1.5, \"arrowwidth\": 1, \"arrowhead\": 0.5}, {\"x\": -0.6560291178472273, \"y\": -0.0026183790093348303, \"text\": \"quattro\", \"arrowcolor\": \"black\", \"arrowsize\": 1.5, \"arrowwidth\": 1, \"arrowhead\": 0.5}, {\"x\": -0.2802099752280093, \"y\": 0.43070790467187814, \"text\": \"tre\", \"arrowcolor\": \"black\", \"arrowsize\": 1.5, \"arrowwidth\": 1, \"arrowhead\": 0.5}]}, {\"showLink\": true, \"linkText\": \"Export to plot.ly\"})});</script>"
      ]
     },
     "metadata": {},
     "output_type": "display_data"
    }
   ],
   "source": [
    "trace1 = Scatter(\n",
    "    x = new_en_words_vec[:, 0],\n",
    "    y = new_en_words_vec[:, 1],\n",
    "    mode = 'markers+text',\n",
    "    text = en_words,\n",
    "    textposition = 'top'\n",
    ")\n",
    "trace2 = Scatter(\n",
    "    x = new_it_words_vec[:, 0],\n",
    "    y = new_it_words_vec[:, 1],\n",
    "    mode = 'markers+text',\n",
    "    text = it_words,\n",
    "    textposition = 'top'\n",
    ")\n",
    "layout = Layout(\n",
    "    showlegend = False,\n",
    "    annotations = [dict(\n",
    "        x = new_it_words_vec[5][0],\n",
    "        y = new_it_words_vec[5][1],\n",
    "        text = translated_word[en_words[4]][0],\n",
    "        arrowcolor = \"black\",\n",
    "        arrowsize = 1.5,\n",
    "        arrowwidth = 1,\n",
    "        arrowhead = 0.5\n",
    "      ), dict(\n",
    "        x = new_it_words_vec[6][0],\n",
    "        y = new_it_words_vec[6][1],\n",
    "        text = translated_word[en_words[4]][1],\n",
    "        arrowcolor = \"black\",\n",
    "        arrowsize = 1.5,\n",
    "        arrowwidth = 1,\n",
    "        arrowhead = 0.5\n",
    "      ), dict(\n",
    "        x = new_it_words_vec[7][0],\n",
    "        y = new_it_words_vec[7][1],\n",
    "        text = translated_word[en_words[4]][2],\n",
    "        arrowcolor = \"black\",\n",
    "        arrowsize = 1.5,\n",
    "        arrowwidth = 1,\n",
    "        arrowhead = 0.5\n",
    "      )]\n",
    ")\n",
    "data = [trace1, trace2]\n",
    "\n",
    "fig = Figure(data=data, layout=layout)\n",
    "plot_url = plotly.offline.iplot(fig, filename='relatie_position_for_numbers.html')"
   ]
  },
  {
   "cell_type": "markdown",
   "metadata": {},
   "source": [
    "You probably will see that two kind of different color nodes, one for the English and the other for the Italian. For the translation of word `five`, we return `top 3` similar words `[u'cinque', u'quattro', u'tre']`. We can easily see that the translation is convincing."
   ]
  },
  {
   "cell_type": "markdown",
   "metadata": {},
   "source": [
    "Let's see some animal words, the figue shows that most of words are also share the similar geometric arrangements."
   ]
  },
  {
   "cell_type": "code",
   "execution_count": 22,
   "metadata": {},
   "outputs": [],
   "source": [
    "words = [(\"dog\", \"cane\"), (\"pig\", \"maiale\"), (\"cat\", \"gatto\"), (\"horse\", \"cavallo\"), (\"birds\", \"uccelli\")]\n",
    "en_words_vec = [source_word_vec[item[0]] for item in words]\n",
    "it_words_vec = [target_word_vec[item[1]] for item in words]\n",
    "\n",
    "en_words, it_words = zip(*words)"
   ]
  },
  {
   "cell_type": "code",
   "execution_count": 23,
   "metadata": {},
   "outputs": [
    {
     "data": {
      "application/vnd.plotly.v1+json": {
       "data": [
        {
         "mode": "markers+text",
         "text": [
          "dog",
          "pig",
          "cat",
          "horse",
          "birds"
         ],
         "textposition": "top",
         "type": "scatter",
         "x": [
          1.789328808534101,
          0.46457554063058476,
          -0.27927526682003184,
          -1.0222752905860228,
          -0.9523537917586309
         ],
         "y": [
          0.5909285409505888,
          -0.9455953195366629,
          -0.44393076092698847,
          -0.2646325969947469,
          1.0632301365078103
         ]
        },
        {
         "mode": "markers+text",
         "text": [
          "cane",
          "maiale",
          "gatto",
          "cavallo",
          "uccelli"
         ],
         "textposition": "top",
         "type": "scatter",
         "x": [
          2.9080996116375437,
          0.10806766020282706,
          -0.2802099752280093,
          -0.6560291178472273,
          -0.5718445428449483,
          -0.5718445428449483,
          -0.6560291178472273,
          -0.2802099752280093
         ],
         "y": [
          -0.301961794605631,
          1.1753733748093962,
          0.4307079046718782,
          -0.0026183790093346274,
          -0.8647953157644258,
          -0.8647953157644258,
          -0.0026183790093348303,
          0.43070790467187814
         ]
        }
       ],
       "layout": {
        "showlegend": false
       }
      },
      "text/html": [
       "<div id=\"078c44f9-2bf4-4a16-8d5e-fc49acfe9234\" style=\"height: 525px; width: 100%;\" class=\"plotly-graph-div\"></div><script type=\"text/javascript\">require([\"plotly\"], function(Plotly) { window.PLOTLYENV=window.PLOTLYENV || {};window.PLOTLYENV.BASE_URL=\"https://plot.ly\";Plotly.newPlot(\"078c44f9-2bf4-4a16-8d5e-fc49acfe9234\", [{\"type\": \"scatter\", \"x\": [1.789328808534101, 0.46457554063058476, -0.27927526682003184, -1.0222752905860228, -0.9523537917586309], \"y\": [0.5909285409505888, -0.9455953195366629, -0.44393076092698847, -0.2646325969947469, 1.0632301365078103], \"mode\": \"markers+text\", \"text\": [\"dog\", \"pig\", \"cat\", \"horse\", \"birds\"], \"textposition\": \"top\"}, {\"type\": \"scatter\", \"x\": [2.9080996116375437, 0.10806766020282706, -0.2802099752280093, -0.6560291178472273, -0.5718445428449483, -0.5718445428449483, -0.6560291178472273, -0.2802099752280093], \"y\": [-0.301961794605631, 1.1753733748093962, 0.4307079046718782, -0.0026183790093346274, -0.8647953157644258, -0.8647953157644258, -0.0026183790093348303, 0.43070790467187814], \"mode\": \"markers+text\", \"text\": [\"cane\", \"maiale\", \"gatto\", \"cavallo\", \"uccelli\"], \"textposition\": \"top\"}], {\"showlegend\": false}, {\"showLink\": true, \"linkText\": \"Export to plot.ly\"})});</script>"
      ],
      "text/vnd.plotly.v1+html": [
       "<div id=\"078c44f9-2bf4-4a16-8d5e-fc49acfe9234\" style=\"height: 525px; width: 100%;\" class=\"plotly-graph-div\"></div><script type=\"text/javascript\">require([\"plotly\"], function(Plotly) { window.PLOTLYENV=window.PLOTLYENV || {};window.PLOTLYENV.BASE_URL=\"https://plot.ly\";Plotly.newPlot(\"078c44f9-2bf4-4a16-8d5e-fc49acfe9234\", [{\"type\": \"scatter\", \"x\": [1.789328808534101, 0.46457554063058476, -0.27927526682003184, -1.0222752905860228, -0.9523537917586309], \"y\": [0.5909285409505888, -0.9455953195366629, -0.44393076092698847, -0.2646325969947469, 1.0632301365078103], \"mode\": \"markers+text\", \"text\": [\"dog\", \"pig\", \"cat\", \"horse\", \"birds\"], \"textposition\": \"top\"}, {\"type\": \"scatter\", \"x\": [2.9080996116375437, 0.10806766020282706, -0.2802099752280093, -0.6560291178472273, -0.5718445428449483, -0.5718445428449483, -0.6560291178472273, -0.2802099752280093], \"y\": [-0.301961794605631, 1.1753733748093962, 0.4307079046718782, -0.0026183790093346274, -0.8647953157644258, -0.8647953157644258, -0.0026183790093348303, 0.43070790467187814], \"mode\": \"markers+text\", \"text\": [\"cane\", \"maiale\", \"gatto\", \"cavallo\", \"uccelli\"], \"textposition\": \"top\"}], {\"showlegend\": false}, {\"showLink\": true, \"linkText\": \"Export to plot.ly\"})});</script>"
      ]
     },
     "metadata": {},
     "output_type": "display_data"
    }
   ],
   "source": [
    "trace1 = Scatter(\n",
    "    x = new_en_words_vec[:, 0],\n",
    "    y = new_en_words_vec[:, 1],\n",
    "    mode = 'markers+text',\n",
    "    text = en_words,\n",
    "    textposition = 'top'\n",
    ")\n",
    "trace2 = Scatter(\n",
    "    x = new_it_words_vec[:, 0],\n",
    "    y = new_it_words_vec[:, 1],\n",
    "    mode = 'markers+text',\n",
    "    text = it_words,\n",
    "    textposition ='top'\n",
    ")\n",
    "layout = Layout(\n",
    "    showlegend = False\n",
    ")\n",
    "data = [trace1, trace2]\n",
    "\n",
    "fig = Figure(data=data, layout=layout)\n",
    "plot_url = plotly.offline.iplot(fig, filename='relatie_position_for_animal.html')"
   ]
  },
  {
   "cell_type": "code",
   "execution_count": 24,
   "metadata": {},
   "outputs": [
    {
     "name": "stdout",
     "output_type": "stream",
     "text": [
      "translation of birds:  OrderedDict([('birds', ['uccelli', 'insettivori', 'animali'])])\n"
     ]
    }
   ],
   "source": [
    "words = [(\"dog\", \"cane\"), (\"pig\", \"maiale\"), (\"cat\", \"gatto\"), (\"horse\", \"cavallo\"), (\"birds\", \"uccelli\")]\n",
    "en_words, it_words = zip(*words)\n",
    "en_words_vec = [source_word_vec[item[0]] for item in words]\n",
    "it_words_vec = [target_word_vec[item[1]] for item in words]\n",
    "\n",
    "# Translate the English word birds to Italian word\n",
    "translated_word = transmat.translate([en_words[4]], 3)\n",
    "print (\"translation of birds: \", translated_word)\n",
    "\n",
    "# the translated words of birds\n",
    "for item in translated_word[en_words[4]]:\n",
    "    it_words_vec.append(target_word_vec[item])\n",
    "\n",
    "pca = PCA(n_components=2)\n",
    "new_en_words_vec = pca.fit_transform(en_words_vec)\n",
    "new_it_words_vec = pca.fit_transform(it_words_vec)"
   ]
  },
  {
   "cell_type": "code",
   "execution_count": 25,
   "metadata": {},
   "outputs": [
    {
     "data": {
      "application/vnd.plotly.v1+json": {
       "data": [
        {
         "mode": "markers+text",
         "text": [
          "dog",
          "pig",
          "cat",
          "horse",
          "birds"
         ],
         "textposition": "top",
         "type": "scatter",
         "x": [
          -1.7254718337397452,
          0.03925916084699728,
          -2.9445104985339223,
          0.9841949511842717,
          3.6465282202424003
         ],
         "y": [
          -1.0373738316957362,
          3.8112665088270505,
          -1.5128835538710523,
          0.6745897017869655,
          -1.9355988250472271
         ]
        },
        {
         "mode": "markers+text",
         "text": [
          "cane",
          "maiale",
          "gatto",
          "cavallo",
          "uccelli"
         ],
         "textposition": "top",
         "type": "scatter",
         "x": [
          -2.2010432578066093,
          -1.9427501461871384,
          -2.0394066938097666,
          -2.0741322166329352,
          2.521279313024333
         ],
         "y": [
          0.199105620078111,
          -1.226279894980924,
          -1.3146371232277965,
          2.0766732207446297,
          0.717410988518832
         ]
        }
       ],
       "layout": {
        "annotations": [
         {
          "arrowcolor": "black",
          "arrowhead": 0.5,
          "arrowsize": 1.5,
          "arrowwidth": 1,
          "text": "uccelli",
          "x": 2.521279313024333,
          "y": 0.7174109885188313
         },
         {
          "arrowcolor": "black",
          "arrowhead": 0.5,
          "arrowsize": 1.5,
          "arrowwidth": 1,
          "text": "insettivori",
          "x": 2.667271209574212,
          "y": -1.5544537581278761
         },
         {
          "arrowcolor": "black",
          "arrowhead": 0.5,
          "arrowsize": 1.5,
          "arrowwidth": 1,
          "text": "animali",
          "x": 0.5475024788135675,
          "y": 0.38476995847618944
         }
        ],
        "showlegend": false
       }
      },
      "text/html": [
       "<div id=\"fffeb9fc-621a-420b-aa10-536aed8bab0f\" style=\"height: 525px; width: 100%;\" class=\"plotly-graph-div\"></div><script type=\"text/javascript\">require([\"plotly\"], function(Plotly) { window.PLOTLYENV=window.PLOTLYENV || {};window.PLOTLYENV.BASE_URL=\"https://plot.ly\";Plotly.newPlot(\"fffeb9fc-621a-420b-aa10-536aed8bab0f\", [{\"type\": \"scatter\", \"x\": [-1.7254718337397452, 0.03925916084699728, -2.9445104985339223, 0.9841949511842717, 3.6465282202424003], \"y\": [-1.0373738316957362, 3.8112665088270505, -1.5128835538710523, 0.6745897017869655, -1.9355988250472271], \"mode\": \"markers+text\", \"text\": [\"dog\", \"pig\", \"cat\", \"horse\", \"birds\"], \"textposition\": \"top\"}, {\"type\": \"scatter\", \"x\": [-2.2010432578066093, -1.9427501461871384, -2.0394066938097666, -2.0741322166329352, 2.521279313024333], \"y\": [0.199105620078111, -1.226279894980924, -1.3146371232277965, 2.0766732207446297, 0.717410988518832], \"mode\": \"markers+text\", \"text\": [\"cane\", \"maiale\", \"gatto\", \"cavallo\", \"uccelli\"], \"textposition\": \"top\"}], {\"showlegend\": false, \"annotations\": [{\"x\": 2.521279313024333, \"y\": 0.7174109885188313, \"text\": \"uccelli\", \"arrowcolor\": \"black\", \"arrowsize\": 1.5, \"arrowwidth\": 1, \"arrowhead\": 0.5}, {\"x\": 2.667271209574212, \"y\": -1.5544537581278761, \"text\": \"insettivori\", \"arrowcolor\": \"black\", \"arrowsize\": 1.5, \"arrowwidth\": 1, \"arrowhead\": 0.5}, {\"x\": 0.5475024788135675, \"y\": 0.38476995847618944, \"text\": \"animali\", \"arrowcolor\": \"black\", \"arrowsize\": 1.5, \"arrowwidth\": 1, \"arrowhead\": 0.5}]}, {\"showLink\": true, \"linkText\": \"Export to plot.ly\"})});</script>"
      ],
      "text/vnd.plotly.v1+html": [
       "<div id=\"fffeb9fc-621a-420b-aa10-536aed8bab0f\" style=\"height: 525px; width: 100%;\" class=\"plotly-graph-div\"></div><script type=\"text/javascript\">require([\"plotly\"], function(Plotly) { window.PLOTLYENV=window.PLOTLYENV || {};window.PLOTLYENV.BASE_URL=\"https://plot.ly\";Plotly.newPlot(\"fffeb9fc-621a-420b-aa10-536aed8bab0f\", [{\"type\": \"scatter\", \"x\": [-1.7254718337397452, 0.03925916084699728, -2.9445104985339223, 0.9841949511842717, 3.6465282202424003], \"y\": [-1.0373738316957362, 3.8112665088270505, -1.5128835538710523, 0.6745897017869655, -1.9355988250472271], \"mode\": \"markers+text\", \"text\": [\"dog\", \"pig\", \"cat\", \"horse\", \"birds\"], \"textposition\": \"top\"}, {\"type\": \"scatter\", \"x\": [-2.2010432578066093, -1.9427501461871384, -2.0394066938097666, -2.0741322166329352, 2.521279313024333], \"y\": [0.199105620078111, -1.226279894980924, -1.3146371232277965, 2.0766732207446297, 0.717410988518832], \"mode\": \"markers+text\", \"text\": [\"cane\", \"maiale\", \"gatto\", \"cavallo\", \"uccelli\"], \"textposition\": \"top\"}], {\"showlegend\": false, \"annotations\": [{\"x\": 2.521279313024333, \"y\": 0.7174109885188313, \"text\": \"uccelli\", \"arrowcolor\": \"black\", \"arrowsize\": 1.5, \"arrowwidth\": 1, \"arrowhead\": 0.5}, {\"x\": 2.667271209574212, \"y\": -1.5544537581278761, \"text\": \"insettivori\", \"arrowcolor\": \"black\", \"arrowsize\": 1.5, \"arrowwidth\": 1, \"arrowhead\": 0.5}, {\"x\": 0.5475024788135675, \"y\": 0.38476995847618944, \"text\": \"animali\", \"arrowcolor\": \"black\", \"arrowsize\": 1.5, \"arrowwidth\": 1, \"arrowhead\": 0.5}]}, {\"showLink\": true, \"linkText\": \"Export to plot.ly\"})});</script>"
      ]
     },
     "metadata": {},
     "output_type": "display_data"
    }
   ],
   "source": [
    "trace1 = Scatter(\n",
    "    x = new_en_words_vec[:, 0],\n",
    "    y = new_en_words_vec[:, 1],\n",
    "    mode = 'markers+text',\n",
    "    text = en_words,\n",
    "    textposition = 'top'\n",
    ")\n",
    "trace2 = Scatter(\n",
    "    x = new_it_words_vec[:5, 0],\n",
    "    y = new_it_words_vec[:5, 1],\n",
    "    mode = 'markers+text',\n",
    "    text = it_words[:5],\n",
    "    textposition = 'top'\n",
    ")\n",
    "layout = Layout(\n",
    "    showlegend = False,\n",
    "    annotations = [dict(\n",
    "        x = new_it_words_vec[5][0],\n",
    "        y = new_it_words_vec[5][1],\n",
    "        text = translated_word[en_words[4]][0],\n",
    "        arrowcolor = \"black\",\n",
    "        arrowsize = 1.5,\n",
    "        arrowwidth = 1,\n",
    "        arrowhead = 0.5\n",
    "      ), dict(\n",
    "        x = new_it_words_vec[6][0],\n",
    "        y = new_it_words_vec[6][1],\n",
    "        text = translated_word[en_words[4]][1],\n",
    "        arrowcolor = \"black\",\n",
    "        arrowsize = 1.5,\n",
    "        arrowwidth = 1,\n",
    "        arrowhead = 0.5\n",
    "      ), dict(\n",
    "        x = new_it_words_vec[7][0],\n",
    "        y = new_it_words_vec[7][1],\n",
    "        text = translated_word[en_words[4]][2],\n",
    "        arrowcolor = \"black\",\n",
    "        arrowsize = 1.5,\n",
    "        arrowwidth = 1,\n",
    "        arrowhead = 0.5\n",
    "      )]\n",
    ")\n",
    "data = [trace1, trace2]\n",
    "\n",
    "fig = Figure(data=data, layout=layout)\n",
    "plot_url = plotly.offline.iplot(fig, filename='relatie_position_for_animal.html')"
   ]
  },
  {
   "cell_type": "markdown",
   "metadata": {},
   "source": [
    "You probably will see that two kind of different color nodes, one for the English and the other for the Italian. For the translation of word `birds`, we return `top 3` similar words `[u'uccelli', u'garzette', u'iguane']`. We can easily see that the animals' words translation is also convincing as the numbers."
   ]
  }
 ],
 "metadata": {
  "kernelspec": {
   "display_name": "Python 3",
   "language": "python",
   "name": "python3"
  },
  "language_info": {
   "codemirror_mode": {
    "name": "ipython",
    "version": 3
   },
   "file_extension": ".py",
   "mimetype": "text/x-python",
   "name": "python",
   "nbconvert_exporter": "python",
   "pygments_lexer": "ipython3",
   "version": "3.6.5"
  }
 },
 "nbformat": 4,
 "nbformat_minor": 1
}
